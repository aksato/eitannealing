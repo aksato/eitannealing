{
 "cells": [
  {
   "cell_type": "code",
   "execution_count": null,
   "metadata": {},
   "outputs": [],
   "source": [
    "import scipy\n",
    "from decimal import Decimal"
   ]
  },
  {
   "cell_type": "code",
   "execution_count": null,
   "metadata": {},
   "outputs": [],
   "source": [
    "errors = {}\n",
    "# FOLDER = \"D:/aksato/ResearchResults/EITResults/EIT2022/MtxCudaTests5-2022\"\n",
    "# SUFFIXES = [\"serial\",\"cuda\",\"ccuda\",\"ccudacg\",\"cusparse\"]\n",
    "FOLDER = \"D:/aksato/ResearchResults/EITResults/EIT2022/MtxCudaTests4-2021\"\n",
    "SUFFIXES = [\"serial\",\"cuda\",\"ccuda\",\"cusparse\"]\n",
    "instance = \"malhaadpt-1-15\""
   ]
  },
  {
   "cell_type": "code",
   "execution_count": null,
   "metadata": {},
   "outputs": [],
   "source": [
    "A = scipy.io.mmread(f\"{FOLDER}/mtx/eit/{instance}.mtx\")\n",
    "rhs = scipy.io.mmread(f\"{FOLDER}/rhs/{instance}b.mtx\")"
   ]
  },
  {
   "cell_type": "code",
   "execution_count": null,
   "metadata": {},
   "outputs": [],
   "source": [
    "xs = [scipy.io.mmread(f\"{FOLDER}/results/malhaadpt-1-15_{suffix}.mtx\") for suffix in SUFFIXES]"
   ]
  },
  {
   "cell_type": "code",
   "execution_count": null,
   "metadata": {},
   "outputs": [],
   "source": [
    "def res(x, A, rhs):\n",
    "    return scipy.linalg.norm(A*x-rhs)"
   ]
  },
  {
   "cell_type": "code",
   "execution_count": null,
   "metadata": {},
   "outputs": [],
   "source": [
    "instance_errors = [res(x,A,rhs) for x in xs]\n",
    "errors[instance] = dict(zip(SUFFIXES,[f\"{Decimal(e):.6E}\" for e in instance_errors]))"
   ]
  },
  {
   "cell_type": "code",
   "execution_count": null,
   "metadata": {},
   "outputs": [],
   "source": [
    "errors"
   ]
  }
 ],
 "metadata": {
  "kernelspec": {
   "display_name": "venv",
   "language": "python",
   "name": "python3"
  },
  "language_info": {
   "codemirror_mode": {
    "name": "ipython",
    "version": 3
   },
   "file_extension": ".py",
   "mimetype": "text/x-python",
   "name": "python",
   "nbconvert_exporter": "python",
   "pygments_lexer": "ipython3",
   "version": "3.11.0"
  },
  "orig_nbformat": 4,
  "vscode": {
   "interpreter": {
    "hash": "e23c6dfd214f2d9880c8fb2bf134bebb4d60841d889826b9f1a34868c4306abe"
   }
  }
 },
 "nbformat": 4,
 "nbformat_minor": 2
}
