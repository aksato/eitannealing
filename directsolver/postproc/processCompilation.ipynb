{
 "cells": [
  {
   "cell_type": "code",
   "execution_count": null,
   "metadata": {},
   "outputs": [],
   "source": [
    "import pandas as pd\n",
    "import matplotlib.pyplot as plt"
   ]
  },
  {
   "cell_type": "code",
   "execution_count": null,
   "metadata": {},
   "outputs": [],
   "source": [
    "file_path = \"D:/aksato\\ResearchResults\\EITResults\\EIT2022/MtxCudaTests5-2022/results/compilation.txt\"\n",
    "CGROUPS = True\n",
    "CUBLASCUSPARSE = True\n",
    "# file_path = \"D:/aksato/ResearchResults/EITResults/EIT2022/MtxCudaTests4-2022/results/compilation.txt\"\n",
    "# CGROUPS = False\n",
    "# CUBLASCUSPARSE = False"
   ]
  },
  {
   "cell_type": "code",
   "execution_count": null,
   "metadata": {},
   "outputs": [],
   "source": [
    "columns = [\"Filename\",\"N\",\"NNZ\",\"Serial Analyzer\",\"Serial Execution\",\"Serial Iterations\", \"Cuda Analyzer\",\"Cuda Execution\",\"Cuda Iterations\",\"Consolidated Cuda Analyzer\",\"Consolidated Cuda Execution\",\"Consolidated Cuda Iterations\"]\n",
    "if CGROUPS:\n",
    "  columns += [\"Coop. Groups Cuda Analyzer\",\"Coop. Groups Cuda Execution\", \"Coop. Groups Cuda Iterations\"]\n",
    "if CUBLASCUSPARSE:\n",
    "  columns += [\"CUBLAS Analyzer\",\"CUBLAS Execution\", \"CUBLAS Iterations\"]"
   ]
  },
  {
   "cell_type": "code",
   "execution_count": null,
   "metadata": {},
   "outputs": [],
   "source": [
    "df = pd.read_csv(file_path, delimiter='\\t', names=columns)\n",
    "df"
   ]
  },
  {
   "cell_type": "code",
   "execution_count": null,
   "metadata": {},
   "outputs": [],
   "source": [
    "df = df.groupby('Filename').mean().sort_values(by=\"N\")\n",
    "df"
   ]
  },
  {
   "cell_type": "code",
   "execution_count": null,
   "metadata": {},
   "outputs": [],
   "source": [
    "\n",
    "df.plot(x='N', y=[t for t in columns if \"Execution\" in t], kind='line')\t\n",
    "plt.show()"
   ]
  }
 ],
 "metadata": {
  "kernelspec": {
   "display_name": "venv",
   "language": "python",
   "name": "python3"
  },
  "language_info": {
   "codemirror_mode": {
    "name": "ipython",
    "version": 3
   },
   "file_extension": ".py",
   "mimetype": "text/x-python",
   "name": "python",
   "nbconvert_exporter": "python",
   "pygments_lexer": "ipython3",
   "version": "3.11.0"
  },
  "orig_nbformat": 4,
  "vscode": {
   "interpreter": {
    "hash": "e23c6dfd214f2d9880c8fb2bf134bebb4d60841d889826b9f1a34868c4306abe"
   }
  }
 },
 "nbformat": 4,
 "nbformat_minor": 2
}
